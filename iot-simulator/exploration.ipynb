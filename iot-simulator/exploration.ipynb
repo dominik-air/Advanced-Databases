{
 "cells": [
  {
   "cell_type": "code",
   "execution_count": 1,
   "metadata": {},
   "outputs": [],
   "source": [
    "import pandas as pd"
   ]
  },
  {
   "cell_type": "code",
   "execution_count": 2,
   "metadata": {},
   "outputs": [
    {
     "data": {
      "text/html": [
       "<div>\n",
       "<style scoped>\n",
       "    .dataframe tbody tr th:only-of-type {\n",
       "        vertical-align: middle;\n",
       "    }\n",
       "\n",
       "    .dataframe tbody tr th {\n",
       "        vertical-align: top;\n",
       "    }\n",
       "\n",
       "    .dataframe thead th {\n",
       "        text-align: right;\n",
       "    }\n",
       "</style>\n",
       "<table border=\"1\" class=\"dataframe\">\n",
       "  <thead>\n",
       "    <tr style=\"text-align: right;\">\n",
       "      <th></th>\n",
       "      <th>name</th>\n",
       "      <th>serial_number</th>\n",
       "      <th>unit</th>\n",
       "      <th>min_val</th>\n",
       "      <th>max_val</th>\n",
       "      <th>fs</th>\n",
       "      <th>lon</th>\n",
       "      <th>lat</th>\n",
       "      <th>ip_address</th>\n",
       "      <th>port</th>\n",
       "    </tr>\n",
       "  </thead>\n",
       "  <tbody>\n",
       "    <tr>\n",
       "      <th>0</th>\n",
       "      <td>wind_speed_0</td>\n",
       "      <td>968daad6fe4349bcb171b60d1f367ffe</td>\n",
       "      <td>m/s</td>\n",
       "      <td>0</td>\n",
       "      <td>5.0</td>\n",
       "      <td>10.000</td>\n",
       "      <td>19.891715</td>\n",
       "      <td>50.107402</td>\n",
       "      <td>localhost</td>\n",
       "      <td>51983</td>\n",
       "    </tr>\n",
       "    <tr>\n",
       "      <th>1</th>\n",
       "      <td>temperature_0</td>\n",
       "      <td>401133b3546a4f4a91eb4e1120c421be</td>\n",
       "      <td>C</td>\n",
       "      <td>-30</td>\n",
       "      <td>40.0</td>\n",
       "      <td>1000.000</td>\n",
       "      <td>20.162249</td>\n",
       "      <td>50.036321</td>\n",
       "      <td>localhost</td>\n",
       "      <td>51984</td>\n",
       "    </tr>\n",
       "    <tr>\n",
       "      <th>2</th>\n",
       "      <td>atmospheric_pressure_0</td>\n",
       "      <td>9865f84b4cf14605a44b1c16e2fb3f6e</td>\n",
       "      <td>hpa</td>\n",
       "      <td>965</td>\n",
       "      <td>1045.0</td>\n",
       "      <td>100.000</td>\n",
       "      <td>19.868392</td>\n",
       "      <td>50.033730</td>\n",
       "      <td>localhost</td>\n",
       "      <td>51985</td>\n",
       "    </tr>\n",
       "    <tr>\n",
       "      <th>3</th>\n",
       "      <td>wind_speed_1</td>\n",
       "      <td>2694f265df8046f68ba408f334979abe</td>\n",
       "      <td>m/s</td>\n",
       "      <td>0</td>\n",
       "      <td>5.0</td>\n",
       "      <td>0.001</td>\n",
       "      <td>20.173626</td>\n",
       "      <td>50.089142</td>\n",
       "      <td>localhost</td>\n",
       "      <td>51986</td>\n",
       "    </tr>\n",
       "    <tr>\n",
       "      <th>4</th>\n",
       "      <td>humidity_0</td>\n",
       "      <td>f4421c09015b4ed4980ff221a6789b6e</td>\n",
       "      <td>%</td>\n",
       "      <td>0</td>\n",
       "      <td>100.0</td>\n",
       "      <td>1.000</td>\n",
       "      <td>20.126452</td>\n",
       "      <td>50.015599</td>\n",
       "      <td>localhost</td>\n",
       "      <td>51987</td>\n",
       "    </tr>\n",
       "  </tbody>\n",
       "</table>\n",
       "</div>"
      ],
      "text/plain": [
       "                     name                     serial_number unit  min_val   \n",
       "0            wind_speed_0  968daad6fe4349bcb171b60d1f367ffe  m/s        0  \\\n",
       "1           temperature_0  401133b3546a4f4a91eb4e1120c421be    C      -30   \n",
       "2  atmospheric_pressure_0  9865f84b4cf14605a44b1c16e2fb3f6e  hpa      965   \n",
       "3            wind_speed_1  2694f265df8046f68ba408f334979abe  m/s        0   \n",
       "4              humidity_0  f4421c09015b4ed4980ff221a6789b6e    %        0   \n",
       "\n",
       "   max_val        fs        lon        lat ip_address   port  \n",
       "0      5.0    10.000  19.891715  50.107402  localhost  51983  \n",
       "1     40.0  1000.000  20.162249  50.036321  localhost  51984  \n",
       "2   1045.0   100.000  19.868392  50.033730  localhost  51985  \n",
       "3      5.0     0.001  20.173626  50.089142  localhost  51986  \n",
       "4    100.0     1.000  20.126452  50.015599  localhost  51987  "
      ]
     },
     "execution_count": 2,
     "metadata": {},
     "output_type": "execute_result"
    }
   ],
   "source": [
    "df = pd.read_csv(\"iot_sensor_grid.csv\")\n",
    "df.head()"
   ]
  },
  {
   "cell_type": "code",
   "execution_count": 12,
   "metadata": {},
   "outputs": [
    {
     "data": {
      "text/plain": [
       "{'atmospheric_pressure', 'humidity', 'luminosity', 'temperature', 'wind_speed'}"
      ]
     },
     "execution_count": 12,
     "metadata": {},
     "output_type": "execute_result"
    }
   ],
   "source": [
    "def extract_unique_names(name):\n",
    "    return name.str.extract(r'(\\w+)_\\d+')\n",
    "\n",
    "set(extract_unique_names(df.name).values.reshape((100, )).tolist())"
   ]
  },
  {
   "cell_type": "code",
   "execution_count": null,
   "metadata": {},
   "outputs": [],
   "source": []
  }
 ],
 "metadata": {
  "kernelspec": {
   "display_name": ".venv",
   "language": "python",
   "name": "python3"
  },
  "language_info": {
   "codemirror_mode": {
    "name": "ipython",
    "version": 3
   },
   "file_extension": ".py",
   "mimetype": "text/x-python",
   "name": "python",
   "nbconvert_exporter": "python",
   "pygments_lexer": "ipython3",
   "version": "3.10.8"
  },
  "orig_nbformat": 4
 },
 "nbformat": 4,
 "nbformat_minor": 2
}
