{
 "cells": [
  {
   "cell_type": "code",
   "execution_count": 3,
   "metadata": {},
   "outputs": [],
   "source": [
    "import os\n",
    "from sqlalchemy import create_engine\n",
    "from sqlalchemy.ext.declarative import declarative_base"
   ]
  },
  {
   "cell_type": "code",
   "execution_count": 4,
   "metadata": {},
   "outputs": [
    {
     "name": "stderr",
     "output_type": "stream",
     "text": [
      "/Users/dzurek/uczelnia/ADB/.venv/lib/python3.7/site-packages/ipykernel_launcher.py:7: MovedIn20Warning: The ``declarative_base()`` function is now available as sqlalchemy.orm.declarative_base(). (deprecated since: 2.0) (Background on SQLAlchemy 2.0 at: https://sqlalche.me/e/b8d9)\n",
      "  import sys\n"
     ]
    }
   ],
   "source": [
    "postgres_db_string = os.environ.get(\"POSTGRES_DB_STRING\")\n",
    "engine = create_engine(postgres_db_string)\n",
    "\n",
    "Base = declarative_base()"
   ]
  },
  {
   "cell_type": "code",
   "execution_count": 5,
   "metadata": {},
   "outputs": [],
   "source": [
    "from sqlalchemy import Column, Integer, Float, SmallInteger,  VARCHAR, Date, ForeignKey\n",
    "\n",
    "class Country(Base):\n",
    "    __tablename__ = 'countries'\n",
    "    id = Column(Integer, primary_key=True)\n",
    "    country_code = Column(VARCHAR(50), nullable=False)\n",
    "    name = Column(VARCHAR(50), nullable=False)\n",
    "\n",
    "class Booking(Base):\n",
    "    __tablename__ = 'bookings'\n",
    "    id = Column(Integer, primary_key=True)\n",
    "    user_id = Column(Integer, ForeignKey('users.id'))\n",
    "    place_id = Column(Integer, ForeignKey('places.id'))\n",
    "    start_date = Column(Date, nullable=False)\n",
    "    end_date = Column(Date, nullable=False)\n",
    "    price_per_night = Column(Float, nullable=False)\n",
    "    num_nights = Column(Integer, nullable=False)\n",
    "\n",
    "\n",
    "class User(Base):\n",
    "    __tablename__ = 'users'\n",
    "    id = Column(Integer, primary_key=True)\n",
    "    email = Column(VARCHAR(50), nullable=False)\n",
    "\n",
    "class Host(Base):\n",
    "    __tablename__ = 'hosts'\n",
    "    id = Column(Integer, primary_key=True)\n",
    "    user_id = Column(Integer, ForeignKey('users.id'))\n",
    "\n",
    "class Place(Base):\n",
    "    __tablename__ = 'places'\n",
    "    id = Column(Integer, primary_key=True)\n",
    "    host_id = Column(Integer, ForeignKey('hosts.id'))\n",
    "    address = Column(VARCHAR(200), nullable=False)\n",
    "    city_id = Column(Integer, ForeignKey('cities.id'))\n",
    "\n",
    "class City(Base):\n",
    "    __tablename__ = 'cities'\n",
    "    id = Column(Integer, primary_key=True)\n",
    "    name = Column(VARCHAR(200), nullable=False)\n",
    "    country_id = Column(Integer, ForeignKey('countries.id'))\n",
    "\n",
    "class Review(Base):\n",
    "    __tablename__ = 'reviews'\n",
    "    id = Column(Integer, primary_key=True)\n",
    "    booking_id = Column(Integer, ForeignKey('bookings.id'))\n",
    "    rating = Column(SmallInteger, nullable=False)\n",
    "    review_body = Column(VARCHAR(200), nullable=False)\n"
   ]
  },
  {
   "cell_type": "code",
   "execution_count": 6,
   "metadata": {},
   "outputs": [],
   "source": [
    "Base.metadata.create_all(engine)"
   ]
  },
  {
   "cell_type": "code",
   "execution_count": 9,
   "metadata": {},
   "outputs": [],
   "source": [
    "mysql_db_string = os.environ.get(\"MYSQL_DB_STRING\")\n",
    "engine = create_engine(mysql_db_string)"
   ]
  },
  {
   "cell_type": "code",
   "execution_count": 11,
   "metadata": {},
   "outputs": [],
   "source": [
    "from sqlalchemy_utils import database_exists, create_database\n",
    "\n",
    "if not database_exists(engine.url):\n",
    "    create_database(engine.url)\n",
    "else:\n",
    "    # Connect the database if exists.\n",
    "    engine.connect()\n",
    "    Base.metadata.create_all(engine)"
   ]
  },
  {
   "cell_type": "code",
   "execution_count": null,
   "metadata": {},
   "outputs": [],
   "source": []
  }
 ],
 "metadata": {
  "kernelspec": {
   "display_name": "Python 3 (ipykernel)",
   "language": "python",
   "name": "python3"
  },
  "language_info": {
   "codemirror_mode": {
    "name": "ipython",
    "version": 3
   },
   "file_extension": ".py",
   "mimetype": "text/x-python",
   "name": "python",
   "nbconvert_exporter": "python",
   "pygments_lexer": "ipython3",
   "version": "3.7.9"
  }
 },
 "nbformat": 4,
 "nbformat_minor": 2
}
